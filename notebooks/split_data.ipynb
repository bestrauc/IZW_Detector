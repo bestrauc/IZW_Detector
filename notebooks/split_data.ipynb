{
 "cells": [
  {
   "cell_type": "code",
   "execution_count": 1,
   "metadata": {},
   "outputs": [],
   "source": [
    "import random\n",
    "\n",
    "import numpy as np\n",
    "import pandas as pd\n",
    "import matplotlib.pyplot as plt\n",
    "\n",
    "import os\n",
    "import sys\n",
    "base_path = os.path.abspath(os.pardir)\n",
    "sys.path.append(base_path)\n",
    "\n",
    "from data_utils import data_reader"
   ]
  },
  {
   "cell_type": "markdown",
   "metadata": {},
   "source": [
    "# Data visualization\n",
    "\n",
    "We want to look at the full data before splitting them. In particular, check of long the average series of event pictures is."
   ]
  },
  {
   "cell_type": "code",
   "execution_count": 2,
   "metadata": {},
   "outputs": [],
   "source": [
    "# read metadata of all files to explore\n",
    "if False:\n",
    "    data = data_reader.read_dir_metadata(base_path + \"/data/source_data/\", False, True)\n",
    "    data.to_hdf(base_path + \"/data/source_data/metadata_raw.hdf5\", \"df\")\n",
    "else:\n",
    "    data = pd.read_hdf(base_path + \"/data/source_data/metadata_raw.hdf5\")"
   ]
  },
  {
   "cell_type": "code",
   "execution_count": 3,
   "metadata": {},
   "outputs": [
    {
     "name": "stdout",
     "output_type": "stream",
     "text": [
      "(array([3.690e+02, 0.000e+00, 2.510e+02, 0.000e+00, 6.887e+03, 0.000e+00,\n",
      "       5.000e+00, 0.000e+00, 1.000e+00, 1.700e+02]), array([1. , 1.5, 2. , 2.5, 3. , 3.5, 4. , 4.5, 5. , 5.5, 6. ]), <a list of 10 Patch objects>)\n"
     ]
    },
    {
     "data": {
      "image/png": "[encoded data removed]",
      "text/plain": [
       "<matplotlib.figure.Figure at 0x7fda7d624860>"
      ]
     },
     "metadata": {},
     "output_type": "display_data"
    },
    {
     "data": {
      "text/plain": [
       "410"
      ]
     },
     "execution_count": 3,
     "metadata": {},
     "output_type": "execute_result"
    }
   ],
   "source": [
    "#print(data.groupby('event_key_simple').size().describe())\n",
    "# plot distribution of images\n",
    "plt.subplot(1, 2, 1)\n",
    "hist_data = plt.hist(data.groupby('event_key_simple').size())\n",
    "print(hist_data)\n",
    "\n",
    "# how much time did the series span on average?\n",
    "plt.subplot(1, 2, 2)\n",
    "plt.hist((data.groupby('event_key_simple').last()['datetime'].subtract(data.groupby('event_key_simple').first()['datetime'])).dt.seconds)\n",
    "plt.show()\n",
    "\n",
    "sum(data.groupby('event_key_simple').last()['datetime'].subtract(data.groupby('event_key_simple').first()['datetime']).dt.seconds == 0)"
   ]
  },
  {
   "cell_type": "markdown",
   "metadata": {},
   "source": [
    "Most of the events consist of **3** shots, the rest are some outliers of 1,2 or 6 pictures. However, some of the 6 picture series seem to be duplicates.\n",
    "\n",
    "The reader function marked duplicates, distinguishing between normal duplicates and duplicates with conflicting labels. If we plot them, the events with more images are gone."
   ]
  },
  {
   "cell_type": "code",
   "execution_count": 4,
   "metadata": {},
   "outputs": [
    {
     "name": "stdout",
     "output_type": "stream",
     "text": [
      "(array([ 369.,    0.,    0.,    0.,    0.,  242.,    0.,    0.,    0.,\n",
      "       6887.]), array([1. , 1.2, 1.4, 1.6, 1.8, 2. , 2.2, 2.4, 2.6, 2.8, 3. ]), <a list of 10 Patch objects>)\n"
     ]
    },
    {
     "data": {
      "image/png": "[encoded data removed]",
      "text/plain": [
       "<matplotlib.figure.Figure at 0x7fda7d624ac8>"
      ]
     },
     "metadata": {},
     "output_type": "display_data"
    }
   ],
   "source": [
    "non_dup_data = data[data.duplicates==0]\n",
    "\n",
    "plt.subplot(1, 2, 1)\n",
    "hist_data = plt.hist(non_dup_data.groupby('event_key_simple').size())\n",
    "print(hist_data)\n",
    "\n",
    "plt.subplot(1, 2, 2)\n",
    "plt.hist((non_dup_data.groupby('event_key_simple').last()['datetime'].subtract(non_dup_data.groupby('event_key_simple').first()['datetime'])).dt.seconds)\n",
    "plt.show()"
   ]
  },
  {
   "cell_type": "markdown",
   "metadata": {},
   "source": [
    "# Data split\n",
    "\n",
    "We split the image data into training and validation sets. Later we can extract the necessary metadata from the training set to train the network.  \n",
    "Need to be careful to maintain series of events while shuffling, i.e. only shuffle whole series of events.\n",
    "\n",
    "To maintain a balance of images, the default validation fraction of 0.1 could be weighted by image series length. But since most series are 3 images long, we just split the image series.\n",
    "\n",
    "We could also split on the extended events, to be determined if it makes sense."
   ]
  },
  {
   "cell_type": "code",
   "execution_count": 5,
   "metadata": {},
   "outputs": [],
   "source": [
    "def split_simple(data, train_dir, val_dir, val_frac):\n",
    "    # assign files to train/val independently\n",
    "    # but still no duplicates or mislabeled examples\n",
    "    was_added = set()\n",
    "    for index, row in data.iterrows():\n",
    "        # skip items with conflicting labels\n",
    "        if row['duplicate'] == 2:\n",
    "            continue\n",
    "\n",
    "        # only ever add one item that's duplicated\n",
    "        if row['duplicate'] == 1:\n",
    "            # if already added, continue\n",
    "            if row['event_key_simple'] in was_added:\n",
    "                continue\n",
    "\n",
    "            # remember we added it\n",
    "            was_added.add(row['event_key_simple'])\n",
    "\n",
    "        is_validation = (random.random() < val_frac)\n",
    "        target_dir = val_dir if is_validation else train_dir\n",
    "        target_label = 'val' if is_validation else 'train'\n",
    "\n",
    "        (src_file, dst_file) = (row['path'], target_dir + '/' + row['filename'])\n",
    "        os.symlink(src_file, dst_file)\n",
    "        #print(\"{} --> {}\".format(src_file, dst_file))\n",
    "        \n",
    "        \n",
    "# move the files in the group_data to their output directory\n",
    "# additionally add a metadata label for the set the files are moved to\n",
    "def move_file_group(data, group_data, target_dir, target_label, check_added = False): \n",
    "    was_added = set()\n",
    "    for index, row in group_data.iterrows():\n",
    "        if check_added:\n",
    "            if row['sequence_idx'] in was_added: continue\n",
    "            was_added.add(row['sequence_idx'])\n",
    "        \n",
    "        # move the file to its directory\n",
    "        (src_file, dst_file) = (row['path'], target_dir + '/' + row['label'] + '/' + row['label'] + '_' + str(index) + '.jpg')\n",
    "        #print(\"{} --> {}\".format(src_file, dst_file))\n",
    "        #shutil.copy(src_file, dst_file)\n",
    "        os.symlink(src_file, dst_file)\n",
    "        \n",
    "        # mark the set the file is moved to in the metadata\n",
    "        data.loc[index, 'set'] = target_label\n",
    "        data.loc[index, 'set_path'] = dst_file\n",
    "        \n",
    "        \n",
    "def split_events(data, train_dir, val_dir, val_frac):\n",
    "    # first, split non-duplicated simple events\n",
    "    for group in data[data.duplicates == 0].groupby('event_key_simple'):\n",
    "        is_validation = (random.random() < val_frac)\n",
    "        target_dir = val_dir if is_validation else train_dir\n",
    "        target_label = 'val' if is_validation else 'train'\n",
    "        move_file_group(data, group[1], target_dir, target_label)\n",
    "\n",
    "    # split duplicated events with same labels, but only move one set of images\n",
    "    for group in data[data.duplicates == 1].groupby(['event_key_simple']):\n",
    "        #dedup_group = group[1].groupby('sequence_idx').last()\n",
    "\n",
    "        is_validation = (random.random() < val_frac)\n",
    "        target_dir = val_dir if is_validation else train_dir\n",
    "        target_label = 'val' if is_validation else 'train'\n",
    "        move_file_group(data, group[1], target_dir, target_label, check_added=True)\n",
    "        \n",
    "        \n",
    "def split_files(data, output_dir, val_frac, keep_events = True):   \n",
    "    def make_set_dir(dir_name):\n",
    "        os.makedirs(dir_name)\n",
    "        os.makedirs(dir_name + '/cheetah')\n",
    "        os.makedirs(dir_name + '/leopard')\n",
    "        os.makedirs(dir_name + '/unknown')\n",
    "    \n",
    "    train_dir = output_dir + '/train'\n",
    "    val_dir = output_dir + '/val'\n",
    "\n",
    "    # create required directories\n",
    "    if os.listdir(output_dir) != []:\n",
    "        print(\"Error: Make sure the output directory is empty!\")\n",
    "        return\n",
    "\n",
    "    print(train_dir)\n",
    "    print(val_dir)\n",
    "\n",
    "    make_set_dir(train_dir)\n",
    "    make_set_dir(val_dir)\n",
    "    \n",
    "    random.seed(a=42)\n",
    "    \n",
    "    if keep_events:\n",
    "        split_events(data, train_dir, val_dir, val_frac)\n",
    "    else:\n",
    "        split_simple(data, train_dir, val_dir, val_frac)\n",
    "    \n",
    "    data.to_hdf(output_dir + '/metadata.hdf5', \"df\")"
   ]
  },
  {
   "cell_type": "code",
   "execution_count": null,
   "metadata": {},
   "outputs": [],
   "source": [
    "split_files(data, base_path + '/data/model_data', 0.1)"
   ]
  },
  {
   "cell_type": "code",
   "execution_count": null,
   "metadata": {},
   "outputs": [],
   "source": [
    "print(\"Training: {}\\t Validation: {}\".format(sum(data.set=='train'), sum(data.set=='val')))\n",
    "sum(data.duplicates==2)"
   ]
  }
 ],
 "metadata": {
  "kernelspec": {
   "display_name": "Python 3",
   "language": "python",
   "name": "python3"
  },
  "language_info": {
   "codemirror_mode": {
    "name": "ipython",
    "version": 3
   },
   "file_extension": ".py",
   "mimetype": "text/x-python",
   "name": "python",
   "nbconvert_exporter": "python",
   "pygments_lexer": "ipython3",
   "version": "3.5.2"
  }
 },
 "nbformat": 4,
 "nbformat_minor": 2
}
