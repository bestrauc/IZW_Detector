{
 "cells": [
  {
   "cell_type": "markdown",
   "metadata": {},
   "source": [
    "# Classification using the Inception-ResNet-v2\n",
    "\n",
    "This notebook is based on the code from Benjamin Wild, with modifications and additions.\n",
    "\n",
    "First, we load the required dependencies and set the paths to the files."
   ]
  },
  {
   "cell_type": "code",
   "execution_count": null,
   "metadata": {},
   "outputs": [],
   "source": [
    "# Config\n",
    "import os\n",
    "import sys\n",
    "base_path = os.path.abspath(os.pardir)\n",
    "sys.path.append(base_path)\n",
    "\n",
    "print(os.getcwd())\n",
    "\n",
    "os.chdir(base_path + '/data')\n",
    "data_path = 'model_data_extended/'\n",
    "#data_path = '/home/ec2-user/IZW_Detector/cheetah_data/model_data_extended/'\n",
    "train_data_path = data_path + 'train/'\n",
    "val_data_path = data_path + 'val/'\n",
    "all_data_path = '/home/ec2-user/IZW_Detector/cheetah_data/model_data_extended/all'"
   ]
  },
  {
   "cell_type": "code",
   "execution_count": null,
   "metadata": {},
   "outputs": [],
   "source": [
    "%matplotlib inline\n",
    "\n",
    "import tensorflow as tf\n",
    "from keras.backend.tensorflow_backend import set_session, get_session\n",
    "config = tf.ConfigProto()\n",
    "config.gpu_options.per_process_gpu_memory_fraction = 0.9\n",
    "config.gpu_options.allow_growth = True\n",
    "set_session(tf.Session(config=config))\n",
    "\n",
    "import keras.backend as K\n",
    "from keras.applications.inception_resnet_v2 import InceptionResNetV2, preprocess_input\n",
    "from keras.preprocessing.image import ImageDataGenerator, load_img, img_to_array\n",
    "from keras.layers import Dense, Dropout, Input, concatenate\n",
    "from keras.models import Model, load_model\n",
    "from keras.optimizers import Nadam\n",
    "from scipy.ndimage.interpolation import rotate\n",
    "from sklearn.metrics import precision_recall_curve, classification_report, accuracy_score, confusion_matrix\n",
    "import pandas as pd\n",
    "import numpy as np\n",
    "import itertools\n",
    "import matplotlib.pyplot as plt"
   ]
  },
  {
   "cell_type": "code",
   "execution_count": null,
   "metadata": {},
   "outputs": [],
   "source": [
    "print(sys.path)\n",
    "\n",
    "# Monkey-patch keras DirectoryIterator to also return filename\n",
    "import keras\n",
    "from notebooks.keras_util.util import DirectoryIteratorWithFname\n",
    "#import keras_preprocessing\n",
    "#from notebooks.keras_util_v2.util import DirectoryIteratorWithFname\n",
    "keras.preprocessing.image.DirectoryIterator = DirectoryIteratorWithFname"
   ]
  },
  {
   "cell_type": "markdown",
   "metadata": {},
   "source": [
    "---\n",
    "## Data loading\n",
    "\n",
    "We load the text file containing the labels used in ImageNet. Cheetahs and Leopards are already present there."
   ]
  },
  {
   "cell_type": "code",
   "execution_count": null,
   "metadata": {},
   "outputs": [],
   "source": [
    "# Load and parse ImageNet class labels\n",
    "\n",
    "#classes = open(base_path + '/modules/imagenet_classes', 'r').readlines()\n",
    "classes = open('imagenet_classes', 'r').readlines()\n",
    "\n",
    "def strip(c):\n",
    "    key, value = c.split(':')\n",
    "    key = key.strip()\n",
    "    key = key.split('{')[-1]\n",
    "    value = value.split(\"'\")[1].strip()\n",
    "    return int(key), value\n",
    "\n",
    "classes = dict([strip(c) for c in classes])"
   ]
  },
  {
   "cell_type": "code",
   "execution_count": null,
   "metadata": {},
   "outputs": [],
   "source": [
    "izw_classes = ('unknown', 'cheetah', 'leopard')"
   ]
  },
  {
   "cell_type": "markdown",
   "metadata": {},
   "source": [
    "---\n",
    "We load the metadata (which contains the file paths) generated in the `split_data` notebook."
   ]
  },
  {
   "cell_type": "code",
   "execution_count": null,
   "metadata": {},
   "outputs": [],
   "source": [
    "metadata = pd.read_hdf(data_path + 'metadata.hdf5')\n",
    "val_metadata = metadata[metadata.set=='val'].copy()\n",
    "\n",
    "class_counts = metadata.label.value_counts(normalize=True)\n",
    "\n",
    "from sklearn.utils import class_weight\n",
    "\n",
    "cheetah_weight = class_weight.compute_class_weight('balanced', izw_classes, metadata.label)\n",
    "cheetah_weight = dict(enumerate(cheetah_weight))\n",
    "\n",
    "class_proportions = np.array([class_counts[label] for label in izw_classes])\n",
    "class_dict = {index:val for (index, val) in enumerate(class_proportions)}\n",
    "\n",
    "print(cheetah_weight)\n",
    "print(class_dict)\n",
    "\n",
    "metadata.head()"
   ]
  },
  {
   "cell_type": "markdown",
   "metadata": {},
   "source": [
    "---\n",
    "The Keras image generators read the training and validation sets and supply a stream of image batches of the classes. (They infer the image classes from the directory names.)  \n",
    "The training image iterator additionally augments the dataset by flipping images, the validation image iterator does not. \n",
    "\n",
    "Additionally there's a preprocessing generator wrapped around the iterator which augments the image input data with time/temperature metadata and additionally rotates images. "
   ]
  },
  {
   "cell_type": "code",
   "execution_count": null,
   "metadata": {},
   "outputs": [],
   "source": [
    "# Crop camera metainformation from images\n",
    "\n",
    "def preprocess(data, batch_size, rotate_range=None):\n",
    "    for x, y, fns in data:\n",
    "        batch_metadata = []\n",
    "        for fname in fns:\n",
    "            fname_splitted = fname.split('_')[1].split('.')\n",
    "            \n",
    "            index = fname_splitted[0]\n",
    "            #rest = '_'.join(fname_splitted[1:]).split('.jpeg')[0]\n",
    "            f_metadata = metadata.loc[int(index)]\n",
    "            \n",
    "            batch_metadata.append((\n",
    "                f_metadata.ambient_temp,\n",
    "                f_metadata.hour))\n",
    "            # optionally use metadata\n",
    "        temperatures = np.array(batch_metadata).astype(np.float32)\n",
    "        x = x[:, 10:-10, 10:-10, :]\n",
    "        if rotate_range is not None:\n",
    "            for idx in range(x.shape[0]):\n",
    "                x[idx] = rotate(x[idx], np.random.random() * rotate_range * 2 - rotate_range, \n",
    "                                order=1, mode='reflect', reshape=False).astype(np.int64)\n",
    "        yield [preprocess_input(x), temperatures], y\n",
    "        #yield [2*((x/255)-0.5), temperatures], y"
   ]
  },
  {
   "cell_type": "code",
   "execution_count": null,
   "metadata": {},
   "outputs": [],
   "source": [
    "# configure the batch size\n",
    "batch_size = 32\n",
    "val_batch_size = 32\n",
    "\n",
    "all_size, train_size, val_size = sum(metadata.set.isin(['train', 'val'])), sum(metadata.set=='train'), sum(metadata.set=='val')\n",
    "print(all_size, train_size, val_size)\n",
    "\n",
    "# Augment train data with horizontal flips, scale to ImageNet input size\n",
    "\n",
    "generator = ImageDataGenerator(horizontal_flip=True)\n",
    "all_generator = ImageDataGenerator(horizontal_flip=True)\n",
    "val_generator = ImageDataGenerator(horizontal_flip=False)\n",
    "\n",
    "train_gen = preprocess(generator.flow_from_directory(\n",
    "    train_data_path, \n",
    "    target_size=(299+20, 299+20),\n",
    "    classes=izw_classes,\n",
    "    batch_size=batch_size), batch_size, rotate_range=10)\n",
    "\n",
    "all_gen = preprocess(all_generator.flow_from_directory(\n",
    "    all_data_path, \n",
    "    target_size=(299+20, 299+20),\n",
    "    classes=izw_classes,\n",
    "    batch_size=batch_size), batch_size, rotate_range=10)\n",
    "\n",
    "val_gen = preprocess(val_generator.flow_from_directory(\n",
    "    val_data_path, \n",
    "    target_size=(299+20, 299+20),\n",
    "    classes=izw_classes,\n",
    "    batch_size=val_batch_size), val_batch_size)"
   ]
  },
  {
   "cell_type": "markdown",
   "metadata": {},
   "source": [
    "---\n",
    "Because training the whole model with 32 image batches doesn't fit our 4GB GPU, we specifiy additional generators for batches of size 4.\n",
    "\n",
    "The top layers can be trained with 32 size batches, but the finetuning only works on 4 image batches. Adjust if trained on a better GPU."
   ]
  },
  {
   "cell_type": "markdown",
   "metadata": {},
   "source": [
    "---\n",
    "# Test pretrained model\n",
    "\n",
    "To get a classification baseline of the neural net without finetuning, we just try to classify with some pictures.  \n",
    "It generally works somewhat, but the NN has a harder job than necessary because the best estimates sometimes are labels we are not interested in."
   ]
  },
  {
   "cell_type": "code",
   "execution_count": null,
   "metadata": {},
   "outputs": [],
   "source": [
    "def plot_confusion_matrix(cm, classes,\n",
    "                          normalize=False,\n",
    "                          title='Confusion matrix',\n",
    "                          cmap=plt.cm.Blues):\n",
    "    \"\"\"\n",
    "    This function prints and plots the confusion matrix.\n",
    "    Normalization can be applied by setting `normalize=True`.\n",
    "    \"\"\"\n",
    "    plt.imshow(cm, interpolation='nearest', cmap=cmap)\n",
    "    plt.title(title)\n",
    "    tick_marks = np.arange(len(classes))\n",
    "    plt.xticks(tick_marks, classes, rotation=45)\n",
    "    plt.yticks(tick_marks, classes)\n",
    "\n",
    "    if normalize:\n",
    "        cm = cm.astype('float') / cm.sum(axis=1)[:, np.newaxis]\n",
    "\n",
    "    thresh = cm.max() / 1.001\n",
    "    for i, j in itertools.product(range(cm.shape[0]), range(cm.shape[1])):\n",
    "        s = '{:.3f}'.format(cm[i, j]) if normalize else cm[i,j]\n",
    "        plt.text(j, i, s,\n",
    "                 horizontalalignment=\"center\",\n",
    "                 color=\"white\" if cm[i, j] > thresh else \"black\")\n",
    "\n",
    "    plt.tight_layout()\n",
    "    plt.ylabel('True label')\n",
    "    plt.xlabel('Predicted label')\n",
    "    \n",
    "def label_confusion_matrix(val_labels, val_preds):\n",
    "    cnf_matrix = confusion_matrix(val_labels, val_preds)\n",
    "    plt.figure(figsize=(6, 6))\n",
    "    plot_confusion_matrix(cnf_matrix, classes=izw_classes,\n",
    "                          normalize=False, title='Confusion matrix')"
   ]
  },
  {
   "cell_type": "code",
   "execution_count": null,
   "metadata": {},
   "outputs": [],
   "source": [
    "# Load pretrained model\n",
    "#\n",
    "# http://arxiv.org/abs/1602.07261\n",
    "#\n",
    "# Inception-v4, Inception-ResNet and the Impact of Residual Connections\n",
    "# on Learning\n",
    "#\n",
    "# Christian Szegedy, Sergey Ioffe, Vincent Vanhoucke, Alex Alemi\n",
    "\n",
    "model = InceptionResNetV2()"
   ]
  },
  {
   "cell_type": "code",
   "execution_count": null,
   "metadata": {},
   "outputs": [],
   "source": [
    "val_labels = []\n",
    "val_preds = []\n",
    "\n",
    "for idx, (batch, labels) in enumerate(val_gen):\n",
    "    pred = model.predict(batch[0])\n",
    "    for i in range(pred.shape[0]):    \n",
    "        class_pred = classes[pred[i,:].argmax()]\n",
    "        class_pred = np.where([x in class_pred for x in izw_classes])\n",
    "        class_pred = 0 if class_pred[0].size==0 else class_pred[0][0]\n",
    "        \n",
    "        val_preds.append(class_pred)\n",
    "        val_labels.append(labels[i].argmax())\n",
    "    \n",
    "    if idx == (val_size // batch_size):\n",
    "        break"
   ]
  },
  {
   "cell_type": "code",
   "execution_count": null,
   "metadata": {},
   "outputs": [],
   "source": [
    "print('Accuracy: {:.3f}%\\n'.format(accuracy_score(val_labels, val_preds) * 100))\n",
    "print(classification_report(val_labels, val_preds, target_names=izw_classes))\n",
    "\n",
    "label_confusion_matrix(val_labels, val_preds)"
   ]
  },
  {
   "cell_type": "markdown",
   "metadata": {},
   "source": [
    "---\n",
    "# Model definition and finetuning\n",
    "\n",
    "First we define the model: Based on the InceptionResnetV2, we remove its last fully connected layer.  \n",
    "A new final layer is added that takes the previous hidden layer output and the metadata information. Dropout is used for regularization. \n",
    "\n",
    "We only have a 3-class softmax output for the Cheetah, Leopard and Unknown classes."
   ]
  },
  {
   "cell_type": "code",
   "execution_count": null,
   "metadata": {},
   "outputs": [],
   "source": [
    "from keras.callbacks import ModelCheckpoint\n",
    "\n",
    "path_prefix = \"/home/ec2-user/cheetah_data/models/\"\n",
    "\n",
    "# define callbacks to save the model\n",
    "filepath= path_prefix + \"weights-improvement-{epoch:02d}-{val_acc:.2f}.hdf5\"\n",
    "checkpoint = ModelCheckpoint(filepath, monitor='val_acc', verbose=1, save_best_only=True, mode='max')\n",
    "callbacks_list = [checkpoint]"
   ]
  },
  {
   "cell_type": "code",
   "execution_count": null,
   "metadata": {},
   "outputs": [],
   "source": [
    "# Use pretrained model, but skip last (classifier) layer and replace it with a new layer for the three IZW classes\n",
    "# Fix pretrained layers, only learn last weights for last layer\n",
    "# Also use metadata as additional input\n",
    "\n",
    "metadata_input = Input(shape=(2, ))\n",
    "\n",
    "base_model = InceptionResNetV2(include_top=False, pooling='avg')\n",
    "h = concatenate([base_model.output, metadata_input])\n",
    "h = Dropout(.2, name='Dropout')(h)\n",
    "outputs = Dense(3, activation='softmax')(h)\n",
    "\n",
    "for layer in base_model.layers:\n",
    "    layer.trainable = False\n",
    "    \n",
    "model = Model(base_model.inputs + [metadata_input], outputs)"
   ]
  },
  {
   "cell_type": "code",
   "execution_count": null,
   "metadata": {},
   "outputs": [],
   "source": [
    "model.load_weights(path_prefix + 'weights-improvement-03-0.98.hdf5')\n",
    "optim = Nadam(0.001)\n",
    "model.compile(loss='categorical_crossentropy', optimizer=optim, metrics=['accuracy'])"
   ]
  },
  {
   "cell_type": "markdown",
   "metadata": {},
   "source": [
    "---\n",
    "Training the last layer is straightforward, but finetuning the whole model afterwards can be difficult since it requires a GPU with much memory.\n",
    "\n",
    "Here we train the model, evaluate the results and store the weights and the model on disk.\n",
    "\n",
    "The cells are currently deactivated unless we want to retrain."
   ]
  },
  {
   "cell_type": "code",
   "execution_count": null,
   "metadata": {},
   "outputs": [],
   "source": [
    "model.save(path_prefix + \"base_model.hdf5\")"
   ]
  },
  {
   "cell_type": "code",
   "execution_count": null,
   "metadata": {},
   "outputs": [],
   "source": [
    "optim = Nadam(0.001)\n",
    "model.compile(loss='categorical_crossentropy', optimizer=optim, metrics=['accuracy'])\n",
    "model.fit_generator(train_gen, steps_per_epoch=train_size // batch_size, validation_data=(val_gen), \n",
    "                    validation_steps=val_size // val_batch_size, epochs=3, workers=4, use_multiprocessing=True,\n",
    "                    callbacks=callbacks_list)\n",
    "                    #callbacks=callbacks_list, class_weight=cheetah_weight)"
   ]
  },
  {
   "cell_type": "code",
   "execution_count": null,
   "metadata": {},
   "outputs": [],
   "source": [
    "# Now finetune the whole model for five more epochs with reduced learning rate\n",
    "\n",
    "for layer in base_model.layers:\n",
    "    layer.trainable = True\n",
    "\n",
    "optim = Nadam(0.0001)\n",
    "model.compile(loss='categorical_crossentropy', optimizer=optim, metrics=['accuracy'])\n",
    "#model.fit_generator(train_gen, steps_per_epoch=train_size // batch_size, validation_data=(val_gen), \n",
    "model.fit_generator(all_gen, steps_per_epoch=all_size // batch_size, validation_data=(val_gen), \n",
    "        validation_steps=val_size // val_batch_size, epochs=6, workers=4, use_multiprocessing=True,\n",
    "        callbacks=callbacks_list, initial_epoch=4)"
   ]
  },
  {
   "cell_type": "code",
   "execution_count": null,
   "metadata": {},
   "outputs": [],
   "source": [
    "import time\n",
    "a = time.time()\n",
    "print(model.evaluate_generator(val_gen, steps=val_size // val_batch_size, workers=1, use_multiprocessing=True))\n",
    "print(time.time() - a)"
   ]
  },
  {
   "cell_type": "code",
   "execution_count": null,
   "metadata": {},
   "outputs": [],
   "source": [
    "#model.save(path_prefix + 'model_v3.hdf5')\n",
    "model.save_weights(filepath.format(epoch=5, val_acc=0.99))"
   ]
  },
  {
   "cell_type": "markdown",
   "metadata": {},
   "source": [
    "---\n",
    "# Evaluation\n",
    "\n",
    "The model now seems to more reliably detect the labels we are interested in (it's easier to decide among three classes than 1000).\n",
    "We store the class probabilities of the predictions in the validation dataframe copy."
   ]
  },
  {
   "cell_type": "code",
   "execution_count": null,
   "metadata": {},
   "outputs": [],
   "source": [
    "val_metadata['predict_probs'] = 0\n",
    "val_metadata['predict_probs'] = val_metadata['predict_probs'].astype(object)\n",
    "\n",
    "for event_key, group in val_metadata.groupby('event_key_simple'):\n",
    "    batch_x = np.zeros((len(group), 299+20, 299+20, 3), dtype=K.floatx())\n",
    "    batch_t = np.zeros((len(group), ), dtype=K.floatx())\n",
    "    batch_h = np.zeros((len(group), ), dtype=K.floatx())\n",
    "    group_iterator = enumerate(zip(group.index, group.set_path, group.ambient_temp, group.hour))\n",
    "    for i, (file_idx, path, temp, hour) in group_iterator:\n",
    "        file_path = os.path.join(*([val_data_path] + path.split('/')[-2:]))\n",
    "        img = load_img(file_path, grayscale=False, target_size=(299+20, 299+20))\n",
    "        x = img_to_array(img)\n",
    "        x = val_generator.random_transform(x.astype(K.floatx()))\n",
    "        x = val_generator.standardize(x)\n",
    "        batch_x[i] = x\n",
    "        batch_t[i] = temp\n",
    "        batch_h[i] = hour\n",
    "    batch_x = batch_x[:, 10:-10, 10:-10, :]\n",
    "    batch_x = [preprocess_input(batch_x), np.stack((batch_t, batch_h), axis=1)]\n",
    "    pred = model.predict_on_batch(batch_x)\n",
    "    \n",
    "    for i, (row_index, row) in enumerate(group.iterrows()):\n",
    "        val_metadata.at[row_index, 'predict_probs'] = pred[i,:]"
   ]
  },
  {
   "cell_type": "markdown",
   "metadata": {},
   "source": [
    "We can do a preliminary analysis on the single images (ignoring the correlated 3-image events) and estimate our new accuracy, which is also much improved compared to the naive model:"
   ]
  },
  {
   "cell_type": "code",
   "execution_count": null,
   "metadata": {},
   "outputs": [],
   "source": [
    "izw_class_arr = np.array(izw_classes)\n",
    "\n",
    "val_preds = val_metadata['predict_probs'].apply(np.argmax).as_matrix()\n",
    "val_probs = np.vstack(val_metadata['predict_probs'])\n",
    "val_labels = val_metadata['label'].apply(lambda x: np.where(x == izw_class_arr)[0][0]).as_matrix()"
   ]
  },
  {
   "cell_type": "code",
   "execution_count": null,
   "metadata": {},
   "outputs": [],
   "source": [
    "print('Accuracy: {:.3f}%\\n'.format(accuracy_score(val_labels, val_preds) * 100))\n",
    "print(classification_report(val_labels, val_preds, target_names=izw_classes))\n",
    "\n",
    "label_confusion_matrix(val_labels, val_preds)"
   ]
  },
  {
   "cell_type": "code",
   "execution_count": null,
   "metadata": {},
   "outputs": [],
   "source": [
    "cheetah_val_probs = val_probs[:, izw_classes.index('cheetah')]\n",
    "cheetah_val_labels = val_labels == izw_classes.index('cheetah')\n",
    "\n",
    "precision, recall, thresholds = precision_recall_curve(cheetah_val_labels, cheetah_val_probs)"
   ]
  },
  {
   "cell_type": "code",
   "execution_count": null,
   "metadata": {},
   "outputs": [],
   "source": [
    "plt.style.use('seaborn-notebook')\n",
    "plt.figure(figsize=(8, 6))\n",
    "plt.plot(recall, precision)\n",
    "plt.plot(recall[precision > .999], precision[precision > .999], c='green')\n",
    "plt.plot(recall[recall > .999], precision[recall > .999], c='green')\n",
    "plt.ylabel('Precision')\n",
    "plt.xlabel('Recall')\n",
    "plt.title('Precision-Recall curve for cheetahs')\n",
    "plt.ylim([precision.min()-0.01, precision.max()+0.01])\n",
    "plt.xlim([-0.05, 1.05])"
   ]
  },
  {
   "cell_type": "code",
   "execution_count": null,
   "metadata": {},
   "outputs": [],
   "source": [
    "precision_max_recall = precision[np.where(recall > .999)[0][-1]]\n",
    "print('Precision for cheetahs for recall > 99.9%: {:.1f}%'.format(precision_max_recall * 100))"
   ]
  },
  {
   "cell_type": "markdown",
   "metadata": {},
   "source": [
    "---\n",
    "# Classification analysis - simple events\n",
    "\n",
    "Individual images are classified quite well. We now want to explore how series of events can be optimally classified.\n",
    "\n",
    "We explore three strategies:\n",
    "\n",
    "- Use the image with the highest probability classification as the label for the 3-image events.\n",
    "- Sum the class probabilities in the 3-image events and take the highest probabilty. (Amounts to averaging over the images.)\n",
    "- Label the 3 images separately and majority vote the label, break ties among 3 classes by probability.\n",
    "\n",
    "First, we explore the prevalence of 3-image events with conflicting predicted labels according the the maximum class probabilities:"
   ]
  },
  {
   "cell_type": "code",
   "execution_count": null,
   "metadata": {},
   "outputs": [],
   "source": [
    "def get_event_labels(data_group):\n",
    "    # count the number of events where we have different labels\n",
    "    label_counts = np.array([0,0,0,0])\n",
    "    # count the number of times any of the labels were correct\n",
    "    correct_label = np.array([0,0,0,0])\n",
    "    \n",
    "    event_lens = np.array([0,0,0,0])\n",
    "\n",
    "    for index, group in data_group:\n",
    "        group_label = izw_classes.index(group['label'].iloc[0])\n",
    "        labels = group['predict_probs'].apply(np.argmax).unique()\n",
    "        label_count = len(labels)\n",
    "        label_counts[label_count] += 1\n",
    "        event_lens[label_count] += len(group)\n",
    "        correct_label[label_count] += 1 if group_label in labels else 0\n",
    "        \n",
    "    return label_counts, correct_label, event_lens\n",
    "\n",
    "label_counts, correct_label, event_lens = get_event_labels(val_metadata.groupby('event_key_simple'))\n",
    "print(\"Observed label counts: {}\".format(label_counts))\n",
    "print(\"Correct label in set:  {}\".format(correct_label))\n",
    "print(\"Correct label in set:  {}\".format(event_lens))"
   ]
  },
  {
   "cell_type": "markdown",
   "metadata": {},
   "source": [
    "---\n",
    "### Unique-label event accuracy\n",
    "Most of the events only have one label, of which almost all are correct. Of the few events which have 2 or even 3 labels, the correct label is at least among the options (which is of course trivially true for the 3 label cases).\n",
    "\n",
    "We can't do much about the events where all images are mislabeled, but we can look at the confusion matrix for these. It shows that 2 images are false positives (a harmless case) while the others, except 1 missed Leopard, confuse Cheetahs and Leopards. "
   ]
  },
  {
   "cell_type": "code",
   "execution_count": null,
   "metadata": {},
   "outputs": [],
   "source": [
    "def unique_label_predictions(data_group, normalize_counts = False):\n",
    "    group_labels, group_preds = [], []\n",
    "    for index, group in data_group:\n",
    "        labels = group['predict_probs'].apply(np.argmax).unique()\n",
    "        group_label = izw_classes.index(group['label'].iloc[0])\n",
    "        if len(labels) == 1:     \n",
    "            factor = len(group) if normalize_counts else 1\n",
    "            group_preds.extend([labels[0]] * factor)\n",
    "            group_labels.extend([group_label] * factor)\n",
    "            \n",
    "    return group_labels, group_preds\n",
    "\n",
    "group_labels, group_preds = unique_label_predictions(val_metadata.groupby('event_key_simple'))\n",
    "print('Accuracy: {:.3f}%\\n'.format(accuracy_score(group_labels, group_preds) * 100))\n",
    "print(classification_report(group_labels, group_preds, target_names=izw_classes, digits=4))\n",
    "\n",
    "label_confusion_matrix(group_labels, group_preds)"
   ]
  },
  {
   "cell_type": "code",
   "execution_count": null,
   "metadata": {},
   "outputs": [],
   "source": [
    "group_labels, group_preds = unique_label_predictions(val_metadata.groupby('event_key_simple'), normalize_counts=True)\n",
    "print('Accuracy: {:.3f}%\\n'.format(accuracy_score(group_labels, group_preds) * 100))\n",
    "print(classification_report(group_labels, group_preds, target_names=izw_classes, digits=4))\n",
    "\n",
    "label_confusion_matrix(group_labels, group_preds)"
   ]
  },
  {
   "cell_type": "markdown",
   "metadata": {},
   "source": [
    "---\n",
    "### Conflicting-label event accuracy\n",
    "We now try the labeling strategies (maximum probability vs. sum probabilities) for the muliply labeled cases.\n",
    "\n",
    "It seems as if the selection based on the maximum class probability for any of the 3 images gives better results."
   ]
  },
  {
   "cell_type": "code",
   "execution_count": null,
   "metadata": {},
   "outputs": [],
   "source": [
    "def all_label_predictions(data_group, normalize_counts = False):\n",
    "    group_labels_all, group_preds_all, group_labels, group_preds1, group_preds2 = [], [], [], [], []\n",
    "    for index, group in data_group:\n",
    "        group_probs = np.vstack(group['predict_probs'])\n",
    "        labels = group['predict_probs'].apply(np.argmax).unique()\n",
    "        group_label = izw_classes.index(group['label'].iloc[0])\n",
    "        factor = len(group) if normalize_counts else 1\n",
    "\n",
    "        if len(labels) > 1:\n",
    "            group_labels_all.extend([group_label]*factor)\n",
    "            group_labels.extend([group_label]*factor)\n",
    "            label1 = np.unravel_index(group_probs.argmax(), group_probs.shape)[1]\n",
    "            label2 = np.sum(group_probs, axis=0).argmax()\n",
    "            group_preds_all.extend([label1]*factor)\n",
    "            group_preds1.extend([label1]*factor)\n",
    "            group_preds2.extend([label2]*factor)\n",
    "        else:\n",
    "            group_labels_all.extend([group_label]*factor)\n",
    "            group_preds_all.extend([labels[0]]*factor)\n",
    "            \n",
    "    return group_labels_all, group_preds_all, group_labels, group_preds1, group_preds2\n",
    "        \n",
    "group_labels_all1, group_preds_all1, group_labels, group_preds1, group_preds2 = all_label_predictions(val_metadata.groupby('event_key_simple'), normalize_counts=False)\n",
    "print('\\t=========   Normalized   =========')\n",
    "print('Accuracy: {:.3f}%\\n'.format(accuracy_score(group_labels, group_preds1) * 100))\n",
    "print(classification_report(group_labels, group_preds1, target_names=izw_classes, digits=6))\n",
    "label_confusion_matrix(group_labels, group_preds1)\n",
    "\n",
    "group_labels_all2, group_preds_all2, group_labels, group_preds1, group_preds2 = all_label_predictions(val_metadata.groupby('event_key_simple'), normalize_counts=True)\n",
    "print('Accuracy: {:.3f}%\\n'.format(accuracy_score(group_labels, group_preds2) * 100))\n",
    "print(classification_report(group_labels, group_preds2, target_names=izw_classes, digits=6))\n",
    "label_confusion_matrix(group_labels, group_preds1)"
   ]
  },
  {
   "cell_type": "markdown",
   "metadata": {},
   "source": [
    "---\n",
    "### Overall event accuracy\n",
    "The accuracy for the whole dataset is then around 99%, on an event-level resolution.\n",
    "\n",
    "Even for the individual images in the events, the accuracy is increased due to the conflicting label resolution via maximum event class probability."
   ]
  },
  {
   "cell_type": "code",
   "execution_count": null,
   "metadata": {},
   "outputs": [],
   "source": [
    "print('Accuracy: {:.3f}%\\n'.format(accuracy_score(group_labels_all1, group_preds_all1) * 100))\n",
    "print(classification_report(group_labels_all1, group_preds_all1, target_names=izw_classes))\n",
    "label_confusion_matrix(group_labels_all1, group_preds_all1)"
   ]
  },
  {
   "cell_type": "code",
   "execution_count": null,
   "metadata": {},
   "outputs": [],
   "source": [
    "print('Accuracy: {:.3f}%\\n'.format(accuracy_score(group_labels_all2, group_preds_all2) * 100))\n",
    "print(classification_report(group_labels_all2, group_preds_all2, target_names=izw_classes))\n",
    "label_confusion_matrix(group_labels_all2, group_preds_all2)"
   ]
  },
  {
   "cell_type": "markdown",
   "metadata": {},
   "source": [
    "---\n",
    "# Classification analysis - extended events\n",
    "\n",
    "Exploiting correlations in the 3-image events allowed us to improve the accuracy compared to single-image classification. In the preprocessing phase, we connected 3-image events that occurred in succession (since they likely capture the same extended event).  \n",
    "We can now try if the longer events let us reduce the error rate further - if an event has a Leopard classification but the events before and after detected a Cheetah, we might be able to correct the Leopard misclassification.\n",
    "\n",
    "However, we have to be careful with very long events, since it might happen that the presence two different animals really overlapped. (Should check ecological plausibility here.)\n",
    "\n",
    "For now, we just use the same strategies as for the 3-image events: Classify extended events by the most confident prediction among all images or the sum of all probabilities."
   ]
  },
  {
   "cell_type": "code",
   "execution_count": null,
   "metadata": {},
   "outputs": [],
   "source": [
    "ext_label_counts, ext_correct_label, ext_event_lens = get_event_labels(val_metadata.groupby('event_key'))\n",
    "print(\"Observed label counts: {}\".format(ext_label_counts))\n",
    "print(\"Correct label in set:  {}\".format(ext_correct_label))\n",
    "print(\"Num. of events in set: {}\".format(ext_event_lens))"
   ]
  },
  {
   "cell_type": "markdown",
   "metadata": {},
   "source": [
    "---\n",
    "### Unique-label event accuracy\n",
    "\n",
    "The unique-label accuracy is increased for extended events compared to 3-image events. This is counter-intuitive, since non-conflicting 3-image events could be still unique in larger events.  \n",
    "But as the table above shows, some unique 3-events were merged into other events that were already conflicting. Among others, 3 Cheetahs that were misclassified as Leopards were moved.\n",
    "\n",
    "The accuracy increase is thus mostly an artifact of the data here, the interest should mostly lie in how labeling conflicts in extended events are resolved (see below)."
   ]
  },
  {
   "cell_type": "code",
   "execution_count": null,
   "metadata": {},
   "outputs": [],
   "source": [
    "group_labels, group_preds = unique_label_predictions(val_metadata.groupby('event_key'), normalize_counts=True)\n",
    "print('Accuracy: {:.3f}%\\n'.format(accuracy_score(group_labels, group_preds) * 100))\n",
    "print(classification_report(group_labels, group_preds, target_names=izw_classes, digits=4))\n",
    "\n",
    "label_confusion_matrix(group_labels, group_preds)"
   ]
  },
  {
   "cell_type": "markdown",
   "metadata": {},
   "source": [
    "---\n",
    "### Conflicting-label event accuracy\n",
    "\n",
    "Again, classifying an event based on its most confident classification for any image gives the best results - even improved from the 3-image event resolution."
   ]
  },
  {
   "cell_type": "code",
   "execution_count": null,
   "metadata": {},
   "outputs": [],
   "source": [
    "ext_group_labels_all, ext_group_preds_all, ext_group_labels, ext_group_preds1, ext_group_preds2 = all_label_predictions(val_metadata.groupby('event_key'), normalize_counts=True)\n",
    "    \n",
    "print('Accuracy: {:.3f}%\\n'.format(accuracy_score(ext_group_labels, ext_group_preds1) * 100))\n",
    "print(classification_report(ext_group_labels, ext_group_preds1, target_names=izw_classes))\n",
    "\n",
    "print('Accuracy: {:.3f}%\\n'.format(accuracy_score(ext_group_labels, ext_group_preds2) * 100))\n",
    "print(classification_report(ext_group_labels, ext_group_preds2, target_names=izw_classes))"
   ]
  },
  {
   "cell_type": "markdown",
   "metadata": {},
   "source": [
    "---\n",
    "### Overall event accuracy\n",
    "Overall, using extended events slightly improves upon the 3-event image classification - and both are better than the individual image classification.\n",
    "\n",
    "HOWEVER: Note that the improvement in accuracy comes mostly from resolving the classification of 3 events (9 images), which confused Leopards and Cheetahs.  \n",
    "We should not draw overly strong conclusions from such a small sample, but the maximum event class probability mode will be used for event-mislabeling resolution. \n"
   ]
  },
  {
   "cell_type": "code",
   "execution_count": null,
   "metadata": {},
   "outputs": [],
   "source": [
    "print('Accuracy: {:.3f}%\\n'.format(accuracy_score(ext_group_labels_all, ext_group_preds_all) * 100))\n",
    "print(classification_report(ext_group_labels_all, ext_group_preds_all, target_names=izw_classes))\n",
    "label_confusion_matrix(ext_group_labels_all, ext_group_preds_all)"
   ]
  }
 ],
 "metadata": {
  "kernelspec": {
   "display_name": "Environment (conda_tensorflow_p36)",
   "language": "python",
   "name": "conda_tensorflow_p36"
  },
  "language_info": {
   "codemirror_mode": {
    "name": "ipython",
    "version": 3
   },
   "file_extension": ".py",
   "mimetype": "text/x-python",
   "name": "python",
   "nbconvert_exporter": "python",
   "pygments_lexer": "ipython3",
   "version": "3.6.4"
  }
 },
 "nbformat": 4,
 "nbformat_minor": 2
}
