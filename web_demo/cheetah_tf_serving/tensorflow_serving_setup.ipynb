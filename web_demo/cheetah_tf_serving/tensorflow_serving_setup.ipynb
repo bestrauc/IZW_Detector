{
 "cells": [
  {
   "cell_type": "code",
   "execution_count": null,
   "metadata": {},
   "outputs": [],
   "source": [
    "# tips on using Keras models with TensorFlow backend in TF Serving taken from here:\n",
    "# https://medium.com/@mr.acle/exporting-deep-learning-models-from-keras-to-tensorflow-serving-7d4a6e49ce3\n",
    "\n",
    "import tensorflow as tf\n",
    "\n",
    "sess = tf.Session()\n",
    "\n",
    "tf.keras.backend.set_session(sess)\n",
    "tf.keras.backend._LEARNING_PHASE = tf.constant(0)\n",
    "tf.keras.backend.set_learning_phase(0)\n",
    "\n",
    "# see below: `load_model` might not be the best way really\n",
    "model = tf.keras.models.load_model(\"../models/model-improvement-05-0.99.hdf5\")\n",
    "\n",
    "input_dict = {'image': model.input[0], 'meta': model.input[1]}\n",
    "output_dict = {\"prediction\": model.output}\n",
    "prediction_signature = tf.saved_model.signature_def_utils.predict_signature_def(input_dict, output_dict)\n",
    "\n",
    "export_path = \"models/cheetah_inception/1\"\n",
    "builder = tf.saved_model.builder.SavedModelBuilder(export_path)\n",
    "\n",
    "legacy_init_op = tf.group(tf.tables_initializer(), name='legacy_init_op')\n",
    "init_op = tf.group(tf.global_variables_initializer(), tf.local_variables_initializer())\n",
    "\n",
    "# this step is strange: we need to initialize something, else TF complains\n",
    "# (even though a complete compiled model was loaded with `load_model(..)`)\n",
    "# but the initializiation leads to random results at prediction\n",
    "# therefore, we reload the weights manually afterwards\n",
    "# Maybe better in the future: Load architecture and weights explicitly, don't use `load_model`\n",
    "sess.run(init_op)\n",
    "model.load_weights(\"../models/weights-improvement-05-0.99.hdf5\")\n",
    "\n",
    "# Add the meta_graph and the variables to the builder\n",
    "builder.add_meta_graph_and_variables(\n",
    "      sess, [tf.saved_model.tag_constants.SERVING],\n",
    "      signature_def_map={\n",
    "           tf.saved_model.signature_constants.DEFAULT_SERVING_SIGNATURE_DEF_KEY:\n",
    "               prediction_signature,\n",
    "      },\n",
    "      legacy_init_op=legacy_init_op)\n",
    "# save the graph      \n",
    "builder.save() "
   ]
  }
 ],
 "metadata": {
  "kernelspec": {
   "display_name": "Python 3",
   "language": "python",
   "name": "python3"
  },
  "language_info": {
   "codemirror_mode": {
    "name": "ipython",
    "version": 3
   },
   "file_extension": ".py",
   "mimetype": "text/x-python",
   "name": "python",
   "nbconvert_exporter": "python",
   "pygments_lexer": "ipython3",
   "version": "3.6.5"
  }
 },
 "nbformat": 4,
 "nbformat_minor": 2
}
